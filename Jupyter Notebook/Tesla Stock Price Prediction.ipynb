{
 "cells": [
  {
   "cell_type": "code",
   "execution_count": 1,
   "metadata": {},
   "outputs": [],
   "source": [
    "import numpy as np\n",
    "import matplotlib.pyplot as plt\n",
    "import pandas as pd"
   ]
  },
  {
   "cell_type": "code",
   "execution_count": 2,
   "metadata": {},
   "outputs": [],
   "source": [
    "tesla_training_complete = pd.read_csv(r'C:\\Users\\rjfah\\OneDrive\\Desktop\\FN\\TESLA.csv')"
   ]
  },
  {
   "cell_type": "code",
   "execution_count": 3,
   "metadata": {},
   "outputs": [],
   "source": [
    "tesla_training_processed = tesla_training_complete.iloc[:, 1:2].values"
   ]
  },
  {
   "cell_type": "code",
   "execution_count": 4,
   "metadata": {},
   "outputs": [],
   "source": [
    "from sklearn.preprocessing import MinMaxScaler\n",
    "scaler = MinMaxScaler(feature_range = (0, 1))\n",
    "\n",
    "tesla_training_scaled = scaler.fit_transform(tesla_training_processed)"
   ]
  },
  {
   "cell_type": "code",
   "execution_count": 5,
   "metadata": {},
   "outputs": [],
   "source": [
    "features_set = []\n",
    "labels = []\n",
    "for i in range(50, 1250):\n",
    "    features_set.append(tesla_training_scaled[i-50:i, 0])\n",
    "    labels.append(tesla_training_scaled[i, 0])"
   ]
  },
  {
   "cell_type": "code",
   "execution_count": 6,
   "metadata": {},
   "outputs": [],
   "source": [
    "features_set, labels = np.array(features_set), np.array(labels)"
   ]
  },
  {
   "cell_type": "code",
   "execution_count": 7,
   "metadata": {},
   "outputs": [],
   "source": [
    "features_set = np.reshape(features_set, (features_set.shape[0], features_set.shape[1], 1))"
   ]
  },
  {
   "cell_type": "code",
   "execution_count": 8,
   "metadata": {},
   "outputs": [
    {
     "name": "stderr",
     "output_type": "stream",
     "text": [
      "Using TensorFlow backend.\n"
     ]
    }
   ],
   "source": [
    "from keras.models import Sequential\n",
    "from keras.layers import Dense\n",
    "from keras.layers import LSTM\n",
    "from keras.layers import Dropout"
   ]
  },
  {
   "cell_type": "code",
   "execution_count": 9,
   "metadata": {},
   "outputs": [],
   "source": [
    "model = Sequential()\n",
    "model.add(LSTM(units=50, return_sequences=True, input_shape=(features_set.shape[1], 1)))\n",
    "model.add(Dropout(0.2))\n",
    "model.add(LSTM(units=50, return_sequences=True))\n",
    "model.add(Dropout(0.2))\n",
    "\n",
    "model.add(LSTM(units=50, return_sequences=True))\n",
    "model.add(Dropout(0.2))\n",
    "\n",
    "model.add(LSTM(units=50))\n",
    "model.add(Dropout(0.2))"
   ]
  },
  {
   "cell_type": "code",
   "execution_count": 10,
   "metadata": {},
   "outputs": [],
   "source": [
    "model.add(Dense(units = 1))"
   ]
  },
  {
   "cell_type": "code",
   "execution_count": 11,
   "metadata": {},
   "outputs": [],
   "source": [
    "model.compile(optimizer = 'adam', loss = 'mean_squared_error')"
   ]
  },
  {
   "cell_type": "code",
   "execution_count": 12,
   "metadata": {},
   "outputs": [
    {
     "name": "stdout",
     "output_type": "stream",
     "text": [
      "Epoch 1/100\n",
      "1200/1200 [==============================] - 3s 3ms/step - loss: 0.0075\n",
      "Epoch 2/100\n",
      "1200/1200 [==============================] - 2s 2ms/step - loss: 0.0019\n",
      "Epoch 3/100\n",
      "1200/1200 [==============================] - 2s 1ms/step - loss: 0.0021\n",
      "Epoch 4/100\n",
      "1200/1200 [==============================] - 2s 2ms/step - loss: 0.0021\n",
      "Epoch 5/100\n",
      "1200/1200 [==============================] - 2s 1ms/step - loss: 0.0018\n",
      "Epoch 6/100\n",
      "1200/1200 [==============================] - 2s 2ms/step - loss: 0.0019\n",
      "Epoch 7/100\n",
      "1200/1200 [==============================] - 2s 2ms/step - loss: 0.0019\n",
      "Epoch 8/100\n",
      "1200/1200 [==============================] - 2s 1ms/step - loss: 0.0020\n",
      "Epoch 9/100\n",
      "1200/1200 [==============================] - 2s 2ms/step - loss: 0.0014\n",
      "Epoch 10/100\n",
      "1200/1200 [==============================] - 2s 2ms/step - loss: 0.0018A: 0s - l\n",
      "Epoch 11/100\n",
      "1200/1200 [==============================] - 2s 2ms/step - loss: 0.0015\n",
      "Epoch 12/100\n",
      "1200/1200 [==============================] - 2s 2ms/step - loss: 0.0017\n",
      "Epoch 13/100\n",
      "1200/1200 [==============================] - 2s 2ms/step - loss: 0.0015\n",
      "Epoch 14/100\n",
      "1200/1200 [==============================] - 2s 2ms/step - loss: 0.0012\n",
      "Epoch 15/100\n",
      "1200/1200 [==============================] - 2s 2ms/step - loss: 0.0016\n",
      "Epoch 16/100\n",
      "1200/1200 [==============================] - 2s 2ms/step - loss: 0.0015\n",
      "Epoch 17/100\n",
      "1200/1200 [==============================] - 2s 2ms/step - loss: 0.0017\n",
      "Epoch 18/100\n",
      "1200/1200 [==============================] - 2s 2ms/step - loss: 0.0012\n",
      "Epoch 19/100\n",
      "1200/1200 [==============================] - 2s 2ms/step - loss: 0.0015\n",
      "Epoch 20/100\n",
      "1200/1200 [==============================] - 2s 2ms/step - loss: 0.0012\n",
      "Epoch 21/100\n",
      "1200/1200 [==============================] - 2s 2ms/step - loss: 0.0014\n",
      "Epoch 22/100\n",
      "1200/1200 [==============================] - 2s 2ms/step - loss: 0.0011\n",
      "Epoch 23/100\n",
      "1200/1200 [==============================] - 2s 2ms/step - loss: 0.0011\n",
      "Epoch 24/100\n",
      "1200/1200 [==============================] - 2s 2ms/step - loss: 0.0011\n",
      "Epoch 25/100\n",
      "1200/1200 [==============================] - 2s 2ms/step - loss: 0.0012\n",
      "Epoch 26/100\n",
      "1200/1200 [==============================] - 2s 2ms/step - loss: 9.7062e-04\n",
      "Epoch 27/100\n",
      "1200/1200 [==============================] - 2s 2ms/step - loss: 8.8362e-04\n",
      "Epoch 28/100\n",
      "1200/1200 [==============================] - 2s 2ms/step - loss: 0.0010\n",
      "Epoch 29/100\n",
      "1200/1200 [==============================] - 2s 2ms/step - loss: 9.5112e-04\n",
      "Epoch 30/100\n",
      "1200/1200 [==============================] - 2s 2ms/step - loss: 9.8800e-04\n",
      "Epoch 31/100\n",
      "1200/1200 [==============================] - 2s 2ms/step - loss: 0.0014\n",
      "Epoch 32/100\n",
      "1200/1200 [==============================] - 2s 2ms/step - loss: 0.0011\n",
      "Epoch 33/100\n",
      "1200/1200 [==============================] - 2s 2ms/step - loss: 9.7040e-04\n",
      "Epoch 34/100\n",
      "1200/1200 [==============================] - 2s 2ms/step - loss: 0.0011\n",
      "Epoch 35/100\n",
      "1200/1200 [==============================] - 2s 2ms/step - loss: 9.8537e-04\n",
      "Epoch 36/100\n",
      "1200/1200 [==============================] - 2s 2ms/step - loss: 9.3313e-04\n",
      "Epoch 37/100\n",
      "1200/1200 [==============================] - 2s 2ms/step - loss: 7.7315e-04\n",
      "Epoch 38/100\n",
      "1200/1200 [==============================] - 2s 2ms/step - loss: 9.2276e-04\n",
      "Epoch 39/100\n",
      "1200/1200 [==============================] - 2s 2ms/step - loss: 0.0010\n",
      "Epoch 40/100\n",
      "1200/1200 [==============================] - 2s 2ms/step - loss: 8.4366e-04\n",
      "Epoch 41/100\n",
      "1200/1200 [==============================] - 2s 2ms/step - loss: 7.8476e-04\n",
      "Epoch 42/100\n",
      "1200/1200 [==============================] - 2s 2ms/step - loss: 8.1390e-04\n",
      "Epoch 43/100\n",
      "1200/1200 [==============================] - 2s 2ms/step - loss: 7.7287e-04\n",
      "Epoch 44/100\n",
      "1200/1200 [==============================] - 2s 2ms/step - loss: 7.6057e-04\n",
      "Epoch 45/100\n",
      "1200/1200 [==============================] - 2s 2ms/step - loss: 9.5323e-04\n",
      "Epoch 46/100\n",
      "1200/1200 [==============================] - 2s 2ms/step - loss: 8.3175e-04\n",
      "Epoch 47/100\n",
      "1200/1200 [==============================] - 2s 2ms/step - loss: 8.6014e-04\n",
      "Epoch 48/100\n",
      "1200/1200 [==============================] - 2s 2ms/step - loss: 7.8926e-04\n",
      "Epoch 49/100\n",
      "1200/1200 [==============================] - 2s 2ms/step - loss: 7.7110e-04\n",
      "Epoch 50/100\n",
      "1200/1200 [==============================] - 2s 2ms/step - loss: 8.9702e-04\n",
      "Epoch 51/100\n",
      "1200/1200 [==============================] - 2s 2ms/step - loss: 8.0921e-04\n",
      "Epoch 52/100\n",
      "1200/1200 [==============================] - 2s 2ms/step - loss: 6.4036e-04\n",
      "Epoch 53/100\n",
      "1200/1200 [==============================] - 2s 2ms/step - loss: 8.2120e-04\n",
      "Epoch 54/100\n",
      "1200/1200 [==============================] - 2s 2ms/step - loss: 7.3185e-04\n",
      "Epoch 55/100\n",
      "1200/1200 [==============================] - 2s 2ms/step - loss: 8.8278e-04\n",
      "Epoch 56/100\n",
      "1200/1200 [==============================] - 2s 2ms/step - loss: 6.7144e-04\n",
      "Epoch 57/100\n",
      "1200/1200 [==============================] - 2s 2ms/step - loss: 7.8226e-04A: 0s - loss: 7.8992e-0\n",
      "Epoch 58/100\n",
      "1200/1200 [==============================] - 2s 2ms/step - loss: 6.2942e-04\n",
      "Epoch 59/100\n",
      "1200/1200 [==============================] - 2s 2ms/step - loss: 7.8130e-04\n",
      "Epoch 60/100\n",
      "1200/1200 [==============================] - 2s 2ms/step - loss: 7.6891e-04\n",
      "Epoch 61/100\n",
      "1200/1200 [==============================] - 2s 2ms/step - loss: 7.6369e-04\n",
      "Epoch 62/100\n",
      "1200/1200 [==============================] - 2s 2ms/step - loss: 7.8962e-04\n",
      "Epoch 63/100\n",
      "1200/1200 [==============================] - 2s 2ms/step - loss: 9.1045e-04\n",
      "Epoch 64/100\n",
      "1200/1200 [==============================] - 2s 2ms/step - loss: 8.6530e-04\n",
      "Epoch 65/100\n",
      "1200/1200 [==============================] - 2s 2ms/step - loss: 8.0915e-04\n",
      "Epoch 66/100\n",
      "1200/1200 [==============================] - 2s 2ms/step - loss: 6.9509e-04\n",
      "Epoch 67/100\n",
      "1200/1200 [==============================] - 2s 2ms/step - loss: 6.0837e-04\n",
      "Epoch 68/100\n",
      "1200/1200 [==============================] - 2s 2ms/step - loss: 6.9819e-04\n",
      "Epoch 69/100\n",
      "1200/1200 [==============================] - 2s 2ms/step - loss: 6.8308e-04\n",
      "Epoch 70/100\n",
      "1200/1200 [==============================] - 2s 2ms/step - loss: 6.9162e-04\n",
      "Epoch 71/100\n",
      "1200/1200 [==============================] - 2s 2ms/step - loss: 6.6730e-04\n",
      "Epoch 72/100\n",
      "1200/1200 [==============================] - 2s 2ms/step - loss: 6.8755e-04\n",
      "Epoch 73/100\n",
      "1200/1200 [==============================] - 2s 2ms/step - loss: 6.2148e-04\n",
      "Epoch 74/100\n",
      "1200/1200 [==============================] - 2s 2ms/step - loss: 6.1210e-04\n",
      "Epoch 75/100\n",
      "1200/1200 [==============================] - 2s 2ms/step - loss: 6.6264e-04\n",
      "Epoch 76/100\n",
      "1200/1200 [==============================] - 2s 2ms/step - loss: 8.1424e-04\n",
      "Epoch 77/100\n",
      "1200/1200 [==============================] - 2s 2ms/step - loss: 6.7644e-04\n",
      "Epoch 78/100\n",
      "1200/1200 [==============================] - 2s 2ms/step - loss: 6.5424e-04\n",
      "Epoch 79/100\n",
      "1200/1200 [==============================] - 2s 2ms/step - loss: 6.7319e-04\n",
      "Epoch 80/100\n",
      "1200/1200 [==============================] - 2s 2ms/step - loss: 6.8843e-04\n",
      "Epoch 81/100\n",
      "1200/1200 [==============================] - 2s 2ms/step - loss: 6.8588e-04\n",
      "Epoch 82/100\n",
      "1200/1200 [==============================] - 2s 2ms/step - loss: 6.8855e-04\n",
      "Epoch 83/100\n",
      "1200/1200 [==============================] - 2s 2ms/step - loss: 5.1225e-04\n",
      "Epoch 84/100\n",
      "1200/1200 [==============================] - 2s 2ms/step - loss: 6.8480e-04\n",
      "Epoch 85/100\n",
      "1200/1200 [==============================] - 2s 2ms/step - loss: 5.4977e-04\n",
      "Epoch 86/100\n",
      "1200/1200 [==============================] - 2s 2ms/step - loss: 6.5772e-04\n",
      "Epoch 87/100\n",
      "1200/1200 [==============================] - 2s 2ms/step - loss: 5.9027e-04\n",
      "Epoch 88/100\n",
      "1200/1200 [==============================] - 2s 2ms/step - loss: 5.8653e-04\n",
      "Epoch 89/100\n",
      "1200/1200 [==============================] - 2s 2ms/step - loss: 7.5734e-04\n",
      "Epoch 90/100\n",
      "1200/1200 [==============================] - 2s 2ms/step - loss: 6.7590e-04\n",
      "Epoch 91/100\n",
      "1200/1200 [==============================] - 2s 2ms/step - loss: 6.8882e-04\n",
      "Epoch 92/100\n",
      "1200/1200 [==============================] - 2s 2ms/step - loss: 4.7886e-04\n",
      "Epoch 93/100\n",
      "1200/1200 [==============================] - 2s 2ms/step - loss: 7.3914e-04\n",
      "Epoch 94/100\n"
     ]
    },
    {
     "name": "stdout",
     "output_type": "stream",
     "text": [
      "1200/1200 [==============================] - 2s 2ms/step - loss: 6.6857e-04\n",
      "Epoch 95/100\n",
      "1200/1200 [==============================] - 2s 2ms/step - loss: 5.6390e-04\n",
      "Epoch 96/100\n",
      "1200/1200 [==============================] - 2s 2ms/step - loss: 5.4333e-04\n",
      "Epoch 97/100\n",
      "1200/1200 [==============================] - 2s 2ms/step - loss: 6.3071e-04\n",
      "Epoch 98/100\n",
      "1200/1200 [==============================] - 2s 2ms/step - loss: 5.7188e-04\n",
      "Epoch 99/100\n",
      "1200/1200 [==============================] - 2s 2ms/step - loss: 6.5157e-04\n",
      "Epoch 100/100\n",
      "1200/1200 [==============================] - 2s 2ms/step - loss: 6.3964e-04\n"
     ]
    },
    {
     "data": {
      "text/plain": [
       "<keras.callbacks.callbacks.History at 0x1873edbd048>"
      ]
     },
     "execution_count": 12,
     "metadata": {},
     "output_type": "execute_result"
    }
   ],
   "source": [
    "model.fit(features_set, labels, epochs = 100, batch_size = 32)"
   ]
  },
  {
   "cell_type": "code",
   "execution_count": 15,
   "metadata": {},
   "outputs": [],
   "source": [
    "tesla_testing_complete = pd.read_csv(r'C:\\Users\\rjfah\\OneDrive\\Desktop\\FN\\TESLA.csv')\n",
    "tesla_testing_processed = tesla_testing_complete.iloc[:, 1:2].values"
   ]
  },
  {
   "cell_type": "code",
   "execution_count": 17,
   "metadata": {},
   "outputs": [],
   "source": [
    "tesla_total = pd.concat((tesla_training_complete['Open'], tesla_testing_complete['Open']), axis=0)"
   ]
  },
  {
   "cell_type": "code",
   "execution_count": 18,
   "metadata": {},
   "outputs": [],
   "source": [
    "test_inputs = tesla_total[len(tesla_total) - len(tesla_testing_complete) - 50:].values"
   ]
  },
  {
   "cell_type": "code",
   "execution_count": 19,
   "metadata": {},
   "outputs": [],
   "source": [
    "test_inputs = test_inputs.reshape(-1,1)\n",
    "test_inputs = scaler.transform(test_inputs)"
   ]
  },
  {
   "cell_type": "code",
   "execution_count": 20,
   "metadata": {},
   "outputs": [],
   "source": [
    "test_features = []\n",
    "for i in range(50, 70):\n",
    "    test_features.append(test_inputs[i-50:i, 0])"
   ]
  },
  {
   "cell_type": "code",
   "execution_count": 21,
   "metadata": {},
   "outputs": [],
   "source": [
    "test_features = np.array(test_features)\n",
    "test_features = np.reshape(test_features, (test_features.shape[0], test_features.shape[1], 1))"
   ]
  },
  {
   "cell_type": "code",
   "execution_count": 22,
   "metadata": {},
   "outputs": [],
   "source": [
    "predictions = model.predict(test_features)"
   ]
  },
  {
   "cell_type": "code",
   "execution_count": 23,
   "metadata": {},
   "outputs": [],
   "source": [
    "predictions = scaler.inverse_transform(predictions)"
   ]
  },
  {
   "cell_type": "code",
   "execution_count": 25,
   "metadata": {},
   "outputs": [
    {
     "data": {
      "image/png": "[encoded data removed]",
      "text/plain": [
       "<Figure size 720x432 with 1 Axes>"
      ]
     },
     "metadata": {
      "needs_background": "light"
     },
     "output_type": "display_data"
    }
   ],
   "source": [
    "plt.figure(figsize=(10,6))\n",
    "plt.plot(tesla_testing_processed, color='blue', label='Actual Tesla Stock Price')\n",
    "plt.plot(predictions , color='red', label='Predicted Tesla Stock Price')\n",
    "plt.title('Tesla Stock Price Prediction')\n",
    "plt.xlabel('Date')\n",
    "plt.ylabel('Tesla Stock Price')\n",
    "plt.legend()\n",
    "plt.show()"
   ]
  }
 ],
 "metadata": {
  "kernelspec": {
   "display_name": "Python 3",
   "language": "python",
   "name": "python3"
  },
  "language_info": {
   "codemirror_mode": {
    "name": "ipython",
    "version": 3
   },
   "file_extension": ".py",
   "mimetype": "text/x-python",
   "name": "python",
   "nbconvert_exporter": "python",
   "pygments_lexer": "ipython3",
   "version": "3.7.9"
  }
 },
 "nbformat": 4,
 "nbformat_minor": 4
}
