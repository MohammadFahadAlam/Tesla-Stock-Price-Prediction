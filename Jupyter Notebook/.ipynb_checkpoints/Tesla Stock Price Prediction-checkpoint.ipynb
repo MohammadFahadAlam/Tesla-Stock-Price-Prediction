{
 "cells": [
  {
   "cell_type": "code",
   "execution_count": 1,
   "metadata": {},
   "outputs": [],
   "source": [
    "import numpy as np\n",
    "import matplotlib.pyplot as plt\n",
    "import pandas as pd"
   ]
  },
  {
   "cell_type": "code",
   "execution_count": 2,
   "metadata": {},
   "outputs": [],
   "source": [
    "apple_training_complete = pd.read_csv(r'C:\\Users\\rjfah\\OneDrive\\Desktop\\FN\\TESLA.csv')"
   ]
  },
  {
   "cell_type": "code",
   "execution_count": 3,
   "metadata": {},
   "outputs": [],
   "source": [
    "apple_training_processed = apple_training_complete.iloc[:, 1:2].values"
   ]
  },
  {
   "cell_type": "code",
   "execution_count": 4,
   "metadata": {},
   "outputs": [],
   "source": [
    "from sklearn.preprocessing import MinMaxScaler\n",
    "scaler = MinMaxScaler(feature_range = (0, 1))\n",
    "\n",
    "apple_training_scaled = scaler.fit_transform(apple_training_processed)"
   ]
  },
  {
   "cell_type": "code",
   "execution_count": 16,
   "metadata": {},
   "outputs": [],
   "source": [
    "features_set = []\n",
    "labels = []\n",
    "for i in range(50, 1250):\n",
    "    features_set.append(apple_training_scaled[i-50:i, 0])\n",
    "    labels.append(apple_training_scaled[i, 0])"
   ]
  },
  {
   "cell_type": "code",
   "execution_count": 17,
   "metadata": {},
   "outputs": [],
   "source": [
    "features_set, labels = np.array(features_set), np.array(labels)"
   ]
  },
  {
   "cell_type": "code",
   "execution_count": 18,
   "metadata": {},
   "outputs": [],
   "source": [
    "features_set = np.reshape(features_set, (features_set.shape[0], features_set.shape[1], 1))"
   ]
  },
  {
   "cell_type": "code",
   "execution_count": 19,
   "metadata": {},
   "outputs": [
    {
     "name": "stderr",
     "output_type": "stream",
     "text": [
      "Using TensorFlow backend.\n"
     ]
    }
   ],
   "source": [
    "from keras.models import Sequential\n",
    "from keras.layers import Dense\n",
    "from keras.layers import LSTM\n",
    "from keras.layers import Dropout"
   ]
  },
  {
   "cell_type": "code",
   "execution_count": 20,
   "metadata": {},
   "outputs": [],
   "source": [
    "model = Sequential()\n",
    "model.add(LSTM(units=50, return_sequences=True, input_shape=(features_set.shape[1], 1)))\n",
    "model.add(Dropout(0.2))\n",
    "model.add(LSTM(units=50, return_sequences=True))\n",
    "model.add(Dropout(0.2))\n",
    "\n",
    "model.add(LSTM(units=50, return_sequences=True))\n",
    "model.add(Dropout(0.2))\n",
    "\n",
    "model.add(LSTM(units=50))\n",
    "model.add(Dropout(0.2))"
   ]
  },
  {
   "cell_type": "code",
   "execution_count": 21,
   "metadata": {},
   "outputs": [],
   "source": [
    "model.add(Dense(units = 1))"
   ]
  },
  {
   "cell_type": "code",
   "execution_count": 22,
   "metadata": {},
   "outputs": [],
   "source": [
    "model.compile(optimizer = 'adam', loss = 'mean_squared_error')"
   ]
  },
  {
   "cell_type": "code",
   "execution_count": 23,
   "metadata": {},
   "outputs": [
    {
     "name": "stdout",
     "output_type": "stream",
     "text": [
      "Epoch 1/100\n",
      "1200/1200 [==============================] - 3s 3ms/step - loss: 0.0078\n",
      "Epoch 2/100\n",
      "1200/1200 [==============================] - 2s 2ms/step - loss: 0.0020\n",
      "Epoch 3/100\n",
      "1200/1200 [==============================] - 2s 2ms/step - loss: 0.0020\n",
      "Epoch 4/100\n",
      "1200/1200 [==============================] - 2s 2ms/step - loss: 0.0019\n",
      "Epoch 5/100\n",
      "1200/1200 [==============================] - 2s 1ms/step - loss: 0.0022\n",
      "Epoch 6/100\n",
      "1200/1200 [==============================] - 2s 2ms/step - loss: 0.0017\n",
      "Epoch 7/100\n",
      "1200/1200 [==============================] - 2s 2ms/step - loss: 0.0017\n",
      "Epoch 8/100\n",
      "1200/1200 [==============================] - 2s 2ms/step - loss: 0.0017\n",
      "Epoch 9/100\n",
      "1200/1200 [==============================] - 2s 2ms/step - loss: 0.0020\n",
      "Epoch 10/100\n",
      "1200/1200 [==============================] - 2s 2ms/step - loss: 0.0019\n",
      "Epoch 11/100\n",
      "1200/1200 [==============================] - 2s 2ms/step - loss: 0.0016\n",
      "Epoch 12/100\n",
      "1200/1200 [==============================] - 2s 2ms/step - loss: 0.0018\n",
      "Epoch 13/100\n",
      "1200/1200 [==============================] - 2s 2ms/step - loss: 0.0015\n",
      "Epoch 14/100\n",
      "1200/1200 [==============================] - 2s 2ms/step - loss: 0.0013\n",
      "Epoch 15/100\n",
      "1200/1200 [==============================] - 2s 2ms/step - loss: 0.0012\n",
      "Epoch 16/100\n",
      "1200/1200 [==============================] - 2s 2ms/step - loss: 0.0016\n",
      "Epoch 17/100\n",
      "1200/1200 [==============================] - 2s 2ms/step - loss: 0.0012\n",
      "Epoch 18/100\n",
      "1200/1200 [==============================] - 2s 2ms/step - loss: 0.0012\n",
      "Epoch 19/100\n",
      "1200/1200 [==============================] - 2s 2ms/step - loss: 0.0014\n",
      "Epoch 20/100\n",
      "1200/1200 [==============================] - 2s 2ms/step - loss: 0.0013\n",
      "Epoch 21/100\n",
      "1200/1200 [==============================] - 2s 2ms/step - loss: 0.0015\n",
      "Epoch 22/100\n",
      "1200/1200 [==============================] - 2s 2ms/step - loss: 0.0010\n",
      "Epoch 23/100\n",
      "1200/1200 [==============================] - 2s 2ms/step - loss: 0.0010\n",
      "Epoch 24/100\n",
      "1200/1200 [==============================] - 2s 2ms/step - loss: 0.0010\n",
      "Epoch 25/100\n",
      "1200/1200 [==============================] - 2s 2ms/step - loss: 0.0012\n",
      "Epoch 26/100\n",
      "1200/1200 [==============================] - 2s 2ms/step - loss: 0.0011\n",
      "Epoch 27/100\n",
      "1200/1200 [==============================] - 2s 2ms/step - loss: 0.0010\n",
      "Epoch 28/100\n",
      "1200/1200 [==============================] - 2s 2ms/step - loss: 8.9079e-04\n",
      "Epoch 29/100\n",
      "1200/1200 [==============================] - 2s 2ms/step - loss: 8.5983e-04\n",
      "Epoch 30/100\n",
      "1200/1200 [==============================] - 2s 2ms/step - loss: 0.0011\n",
      "Epoch 31/100\n",
      "1200/1200 [==============================] - 2s 2ms/step - loss: 0.0010\n",
      "Epoch 32/100\n",
      "1200/1200 [==============================] - 2s 2ms/step - loss: 0.0011\n",
      "Epoch 33/100\n",
      "1200/1200 [==============================] - 2s 2ms/step - loss: 0.0013\n",
      "Epoch 34/100\n",
      "1200/1200 [==============================] - 2s 2ms/step - loss: 8.8001e-04\n",
      "Epoch 35/100\n",
      "1200/1200 [==============================] - 2s 2ms/step - loss: 8.2293e-04\n",
      "Epoch 36/100\n",
      "1200/1200 [==============================] - 2s 2ms/step - loss: 9.4412e-04\n",
      "Epoch 37/100\n",
      "1200/1200 [==============================] - 2s 2ms/step - loss: 8.7288e-04\n",
      "Epoch 38/100\n",
      "1200/1200 [==============================] - 2s 2ms/step - loss: 0.0011\n",
      "Epoch 39/100\n",
      "1200/1200 [==============================] - 2s 2ms/step - loss: 8.3695e-04\n",
      "Epoch 40/100\n",
      "1200/1200 [==============================] - 2s 2ms/step - loss: 8.0054e-04\n",
      "Epoch 41/100\n",
      "1200/1200 [==============================] - 2s 2ms/step - loss: 9.2497e-04\n",
      "Epoch 42/100\n",
      "1200/1200 [==============================] - 2s 2ms/step - loss: 8.6383e-04\n",
      "Epoch 43/100\n",
      "1200/1200 [==============================] - 2s 2ms/step - loss: 8.3080e-04\n",
      "Epoch 44/100\n",
      "1200/1200 [==============================] - 2s 2ms/step - loss: 8.0407e-04\n",
      "Epoch 45/100\n",
      "1200/1200 [==============================] - 2s 2ms/step - loss: 8.5346e-04\n",
      "Epoch 46/100\n",
      "1200/1200 [==============================] - 2s 2ms/step - loss: 7.2134e-04\n",
      "Epoch 47/100\n",
      "1200/1200 [==============================] - 2s 2ms/step - loss: 8.8923e-04\n",
      "Epoch 48/100\n",
      "1200/1200 [==============================] - 2s 2ms/step - loss: 7.6880e-04A: 0s - loss: 7.4654e-\n",
      "Epoch 49/100\n",
      "1200/1200 [==============================] - 2s 2ms/step - loss: 8.2752e-04\n",
      "Epoch 50/100\n",
      "1200/1200 [==============================] - 2s 2ms/step - loss: 9.1496e-04\n",
      "Epoch 51/100\n",
      "1200/1200 [==============================] - 2s 2ms/step - loss: 6.9584e-04\n",
      "Epoch 52/100\n",
      "1200/1200 [==============================] - 2s 2ms/step - loss: 8.0798e-04\n",
      "Epoch 53/100\n",
      "1200/1200 [==============================] - 2s 2ms/step - loss: 6.6514e-04\n",
      "Epoch 54/100\n",
      "1200/1200 [==============================] - 2s 2ms/step - loss: 6.0581e-04\n",
      "Epoch 55/100\n",
      "1200/1200 [==============================] - 2s 2ms/step - loss: 8.0235e-04\n",
      "Epoch 56/100\n",
      "1200/1200 [==============================] - 2s 2ms/step - loss: 8.3173e-04\n",
      "Epoch 57/100\n",
      "1200/1200 [==============================] - 2s 2ms/step - loss: 8.8218e-04\n",
      "Epoch 58/100\n",
      "1200/1200 [==============================] - 2s 2ms/step - loss: 7.6803e-04\n",
      "Epoch 59/100\n",
      "1200/1200 [==============================] - 2s 2ms/step - loss: 7.4376e-04\n",
      "Epoch 60/100\n",
      "1200/1200 [==============================] - 2s 2ms/step - loss: 7.1109e-04\n",
      "Epoch 61/100\n",
      "1200/1200 [==============================] - 2s 2ms/step - loss: 7.6237e-04\n",
      "Epoch 62/100\n",
      "1200/1200 [==============================] - 2s 2ms/step - loss: 6.4265e-04\n",
      "Epoch 63/100\n",
      "1200/1200 [==============================] - 2s 2ms/step - loss: 8.8277e-04\n",
      "Epoch 64/100\n",
      "1200/1200 [==============================] - 2s 2ms/step - loss: 7.3695e-04\n",
      "Epoch 65/100\n",
      "1200/1200 [==============================] - 2s 2ms/step - loss: 7.7249e-04\n",
      "Epoch 66/100\n",
      "1200/1200 [==============================] - 2s 2ms/step - loss: 7.6499e-04\n",
      "Epoch 67/100\n",
      "1200/1200 [==============================] - 2s 2ms/step - loss: 8.5716e-04\n",
      "Epoch 68/100\n",
      "1200/1200 [==============================] - 2s 2ms/step - loss: 7.0211e-04\n",
      "Epoch 69/100\n",
      "1200/1200 [==============================] - 2s 2ms/step - loss: 5.2344e-04\n",
      "Epoch 70/100\n",
      "1200/1200 [==============================] - 2s 2ms/step - loss: 6.1275e-04\n",
      "Epoch 71/100\n",
      "1200/1200 [==============================] - 2s 2ms/step - loss: 8.2003e-04\n",
      "Epoch 72/100\n",
      "1200/1200 [==============================] - 2s 2ms/step - loss: 6.1731e-04\n",
      "Epoch 73/100\n",
      "1200/1200 [==============================] - 2s 2ms/step - loss: 8.2120e-04\n",
      "Epoch 74/100\n",
      "1200/1200 [==============================] - 2s 2ms/step - loss: 7.7319e-04\n",
      "Epoch 75/100\n",
      "1200/1200 [==============================] - 2s 2ms/step - loss: 6.4016e-04\n",
      "Epoch 76/100\n",
      "1200/1200 [==============================] - 2s 2ms/step - loss: 7.0254e-04\n",
      "Epoch 77/100\n",
      "1200/1200 [==============================] - 2s 2ms/step - loss: 6.3944e-04\n",
      "Epoch 78/100\n",
      "1200/1200 [==============================] - 2s 2ms/step - loss: 5.9335e-04\n",
      "Epoch 79/100\n",
      "1200/1200 [==============================] - 2s 2ms/step - loss: 8.6980e-04\n",
      "Epoch 80/100\n",
      "1200/1200 [==============================] - 2s 2ms/step - loss: 7.3191e-04\n",
      "Epoch 81/100\n",
      "1200/1200 [==============================] - 2s 2ms/step - loss: 7.9542e-04\n",
      "Epoch 82/100\n",
      "1200/1200 [==============================] - 2s 2ms/step - loss: 0.0011\n",
      "Epoch 83/100\n",
      "1200/1200 [==============================] - 2s 2ms/step - loss: 7.6778e-04\n",
      "Epoch 84/100\n",
      "1200/1200 [==============================] - 2s 2ms/step - loss: 6.6695e-04\n",
      "Epoch 85/100\n",
      "1200/1200 [==============================] - 2s 2ms/step - loss: 6.7503e-04\n",
      "Epoch 86/100\n",
      "1200/1200 [==============================] - 2s 2ms/step - loss: 7.3951e-04\n",
      "Epoch 87/100\n",
      "1200/1200 [==============================] - 2s 2ms/step - loss: 6.8739e-04\n",
      "Epoch 88/100\n",
      "1200/1200 [==============================] - 2s 2ms/step - loss: 5.8809e-04\n",
      "Epoch 89/100\n",
      "1200/1200 [==============================] - 2s 2ms/step - loss: 6.0275e-04\n",
      "Epoch 90/100\n",
      "1200/1200 [==============================] - 2s 2ms/step - loss: 8.4910e-04\n",
      "Epoch 91/100\n",
      "1200/1200 [==============================] - 2s 2ms/step - loss: 6.3335e-04\n",
      "Epoch 92/100\n",
      "1200/1200 [==============================] - 2s 2ms/step - loss: 6.3387e-04\n",
      "Epoch 93/100\n",
      "1200/1200 [==============================] - 2s 2ms/step - loss: 6.1708e-04\n",
      "Epoch 94/100\n"
     ]
    },
    {
     "name": "stdout",
     "output_type": "stream",
     "text": [
      "1200/1200 [==============================] - 2s 2ms/step - loss: 5.7779e-04\n",
      "Epoch 95/100\n",
      "1200/1200 [==============================] - 2s 2ms/step - loss: 6.0854e-04\n",
      "Epoch 96/100\n",
      "1200/1200 [==============================] - 2s 2ms/step - loss: 6.0964e-04\n",
      "Epoch 97/100\n",
      "1200/1200 [==============================] - 2s 2ms/step - loss: 8.0909e-04\n",
      "Epoch 98/100\n",
      "1200/1200 [==============================] - 2s 2ms/step - loss: 5.8460e-04\n",
      "Epoch 99/100\n",
      "1200/1200 [==============================] - 2s 2ms/step - loss: 4.9263e-04\n",
      "Epoch 100/100\n",
      "1200/1200 [==============================] - 2s 2ms/step - loss: 6.5082e-04\n"
     ]
    },
    {
     "data": {
      "text/plain": [
       "<keras.callbacks.callbacks.History at 0x20270ef4188>"
      ]
     },
     "execution_count": 23,
     "metadata": {},
     "output_type": "execute_result"
    }
   ],
   "source": [
    "model.fit(features_set, labels, epochs = 100, batch_size = 32)"
   ]
  },
  {
   "cell_type": "code",
   "execution_count": 25,
   "metadata": {},
   "outputs": [],
   "source": [
    "apple_testing_complete = pd.read_csv(r'C:\\Users\\rjfah\\OneDrive\\Desktop\\FN\\TESLA.csv')\n",
    "apple_testing_processed = apple_testing_complete.iloc[:, 1:2].values"
   ]
  },
  {
   "cell_type": "code",
   "execution_count": 33,
   "metadata": {},
   "outputs": [],
   "source": [
    "apple_total = pd.concat((apple_training_complete['Open'], apple_testing_complete['Open']), axis=0)"
   ]
  },
  {
   "cell_type": "code",
   "execution_count": 54,
   "metadata": {},
   "outputs": [],
   "source": [
    "test_inputs = apple_total[len(apple_total) - len(apple_testing_complete) - 50:].values"
   ]
  },
  {
   "cell_type": "code",
   "execution_count": 55,
   "metadata": {},
   "outputs": [],
   "source": [
    "test_inputs = test_inputs.reshape(-1,1)\n",
    "test_inputs = scaler.transform(test_inputs)"
   ]
  },
  {
   "cell_type": "code",
   "execution_count": 59,
   "metadata": {},
   "outputs": [],
   "source": [
    "test_features = []\n",
    "for i in range(50, 70):\n",
    "    test_features.append(test_inputs[i-50:i, 0])"
   ]
  },
  {
   "cell_type": "code",
   "execution_count": 60,
   "metadata": {},
   "outputs": [],
   "source": [
    "test_features = np.array(test_features)\n",
    "test_features = np.reshape(test_features, (test_features.shape[0], test_features.shape[1], 1))"
   ]
  },
  {
   "cell_type": "code",
   "execution_count": 61,
   "metadata": {},
   "outputs": [],
   "source": [
    "predictions = model.predict(test_features)"
   ]
  },
  {
   "cell_type": "code",
   "execution_count": 62,
   "metadata": {},
   "outputs": [],
   "source": [
    "predictions = scaler.inverse_transform(predictions)"
   ]
  },
  {
   "cell_type": "code",
   "execution_count": 64,
   "metadata": {},
   "outputs": [
    {
     "data": {
      "image/png": "[encoded data removed]",
      "text/plain": [
       "<Figure size 720x432 with 1 Axes>"
      ]
     },
     "metadata": {
      "needs_background": "light"
     },
     "output_type": "display_data"
    }
   ],
   "source": [
    "plt.figure(figsize=(10,6))\n",
    "plt.plot(apple_testing_processed, color='blue', label='Actual Tesla Stock Price')\n",
    "plt.plot(predictions , color='red', label='Predicted Tesla Stock Price')\n",
    "plt.title('Tesla Stock Price Prediction')\n",
    "plt.xlabel('Date')\n",
    "plt.ylabel('Tesla Stock Price')\n",
    "plt.legend()\n",
    "plt.show()"
   ]
  }
 ],
 "metadata": {
  "kernelspec": {
   "display_name": "Python 3",
   "language": "python",
   "name": "python3"
  },
  "language_info": {
   "codemirror_mode": {
    "name": "ipython",
    "version": 3
   },
   "file_extension": ".py",
   "mimetype": "text/x-python",
   "name": "python",
   "nbconvert_exporter": "python",
   "pygments_lexer": "ipython3",
   "version": "3.7.9"
  }
 },
 "nbformat": 4,
 "nbformat_minor": 4
}
